{
 "cells": [
  {
   "cell_type": "markdown",
   "metadata": {},
   "source": [
    "# Task 1"
   ]
  },
  {
   "cell_type": "markdown",
   "metadata": {},
   "source": [
    "### 1.1 Write a Python Program to implement your own myreduce() function which works exactly like Python's built-in function reduce() "
   ]
  },
  {
   "cell_type": "markdown",
   "metadata": {},
   "source": [
    "Notes Which i have considered during this myreduce creation.\n",
    "1. If only one value in sequence that value will be result.\n",
    "2. If We send integer filter raises an TypeError."
   ]
  },
  {
   "cell_type": "code",
   "execution_count": 46,
   "metadata": {},
   "outputs": [],
   "source": [
    "def myreduce(func1,sequence):\n",
    "    first_seq=sequence[0]    \n",
    "    count=0\n",
    "    for x in sequence[1:]:\n",
    "        if count==0:\n",
    "            count += 1\n",
    "            result=first_seq\n",
    "        result=func1(result,x)\n",
    "        \n",
    "        if len(sequence) == 1:\n",
    "            result=first_seq\n",
    "        \n",
    "    return result"
   ]
  },
  {
   "cell_type": "markdown",
   "metadata": {},
   "source": [
    "#### Testing"
   ]
  },
  {
   "cell_type": "code",
   "execution_count": 47,
   "metadata": {},
   "outputs": [
    {
     "name": "stdout",
     "output_type": "stream",
     "text": [
      "Using add_func function\n",
      "7\n",
      "\n",
      "Using lamda\n",
      "12\n"
     ]
    }
   ],
   "source": [
    "def add_func(a,b):\n",
    "    return a+b\n",
    "\n",
    "sequence=[3,4]\n",
    "#import functools as func\n",
    "#print(\"actual reduce\")\n",
    "#print(func.reduce(add_func,sequence))\n",
    "print(\"Using add_func function\")\n",
    "print(myreduce(add_func,sequence))\n",
    "print(\"\\nUsing lamda\")\n",
    "print(myreduce(lambda a,b: a*b,sequence))"
   ]
  },
  {
   "cell_type": "markdown",
   "metadata": {},
   "source": [
    "### 1.2 Write a Python program to implement your own myfilter() function which works exactly like Python's built-in function filter()"
   ]
  },
  {
   "cell_type": "markdown",
   "metadata": {},
   "source": [
    "Notes Which i have considered during this myfilter creation.\n",
    "\n",
    "1. Return an iterator of iterable for which function(item) is true.\n",
    "\n",
    "Solution:\n",
    "1. I have achieved this by yiels keywords"
   ]
  },
  {
   "cell_type": "code",
   "execution_count": 48,
   "metadata": {},
   "outputs": [],
   "source": [
    "def myfilter(func,seq):\n",
    "        filtered=[]\n",
    "        seq_length = len(seq)\n",
    "\n",
    "        for char in seq:\n",
    "                bool_result=func(char)\n",
    "                if bool_result==True:\n",
    "                \n",
    "                        filtered=char\n",
    "                        yield filtered"
   ]
  },
  {
   "cell_type": "markdown",
   "metadata": {},
   "source": [
    "##### Testing"
   ]
  },
  {
   "cell_type": "code",
   "execution_count": 49,
   "metadata": {},
   "outputs": [
    {
     "name": "stdout",
     "output_type": "stream",
     "text": [
      "vowels in the given sequence\n",
      "['a', 'e', 'i']\n",
      "\n",
      "Using with lambda\n",
      "Printing all the values which are greater than 2\n",
      "[4, 12, 6]\n"
     ]
    }
   ],
   "source": [
    "def func(variable):\n",
    "    list_1=['a','e','i','o','u']\n",
    "    if variable in list_1:\n",
    "        return True\n",
    "    else:\n",
    "        return False\n",
    "\n",
    "seq = ['a','b','c','e','h','i']\n",
    "print(\"vowels in the given sequence\")\n",
    "print(list(myfilter(func,seq)))\n",
    "print(\"\\nUsing with lambda\")\n",
    "a_list=[4,12,2,1,6]\n",
    "print(\"Printing all the values which are greater than 2\")\n",
    "print(list(myfilter(lambda a: True if (a>2) else False, a_list)))"
   ]
  },
  {
   "cell_type": "markdown",
   "metadata": {},
   "source": [
    "### 1.3 Implement List comprehensions to produce the following lists. \n",
    " \n",
    "Write List comprehensions to produce the following Lists \n",
    " \n",
    "1. ['A', 'C', 'A', 'D', 'G', 'I', ’L’, ‘ D’] \n",
    " \n",
    "2. ['x', 'xx', 'xxx', 'xxxx', 'y', 'yy', 'yyy', 'yyyy', 'z', 'zz', 'zzz', 'zzzz'] \n",
    " \n",
    "3. ['x', 'y', 'z', 'xx', 'yy', 'zz', 'xx', 'yy', 'zz', 'xxxx', 'yyyy', 'zzzz'] \n",
    "\n",
    "4. [[2], [3], [4], [3], [4], [5], [4], [5], [6]] \n",
    " \n",
    "5. [[2, 3, 4, 5], [3, 4, 5, 6], [4, 5, 6, 7], [5, 6, 7, 8]] \n",
    " \n",
    "6. [(1, 1), (2, 1), (3, 1), (1, 2), (2, 2), (3, 2), (1, 3), (2, 3), (3, 3)] "
   ]
  },
  {
   "cell_type": "code",
   "execution_count": 50,
   "metadata": {},
   "outputs": [
    {
     "name": "stdout",
     "output_type": "stream",
     "text": [
      "Pattern: 1\n",
      "['A', 'C', 'A', 'D', 'G', 'I', 'L', 'D']\n",
      "\n",
      "Pattern: 2\n",
      "['x', 'xx', 'xxx', 'xxxx', 'y', 'yy', 'yyy', 'yyyy', 'z', 'zz', 'zzz', 'zzzz']\n",
      "\n",
      "Pattern: 3\n",
      "['x', 'y', 'z', 'xx', 'yy', 'zz', 'xxx', 'yyy', 'zzz', 'xxxx', 'yyyy', 'zzzz']\n",
      "\n",
      "Pattern: 4\n",
      "[[2], [3], [4], [3], [4], [5], [4], [5], [6]]\n",
      "\n",
      "Pattern: 5\n",
      "[[2, 3, 4, 5], [3, 4, 5, 6], [4, 5, 6, 7], [5, 6, 7, 8]]\n",
      "\n",
      "Pattern: 6\n",
      "[(1, 1), (2, 1), (3, 1), (1, 2), (2, 2), (3, 2), (1, 3), (2, 3), (3, 3)]\n"
     ]
    }
   ],
   "source": [
    "#1\n",
    "print(\"Pattern: 1\")\n",
    "str1=\"ACADGILD\"\n",
    "print([x for x in str1])\n",
    "\n",
    "#2\n",
    "print(\"\\nPattern: 2\")\n",
    "str1=['x','y','z']\n",
    "print([x*num for x in str1 for num in range(1,5)])\n",
    "\n",
    "#3\n",
    "print(\"\\nPattern: 3\")\n",
    "str1=['x','y','z']\n",
    "print([x*num for num in range(1,5) for x in str1])\n",
    "\n",
    "#4\n",
    "print(\"\\nPattern: 4\")\n",
    "str1=[2,3,4]\n",
    "print([[(x+val)]for x in range(3) for val in str1])\n",
    "\n",
    "#5\n",
    "print(\"\\nPattern: 5\")\n",
    "str1=[2, 3, 4, 5]\n",
    "print([[x+val for x in range(4)] for val in str1])\n",
    "\n",
    "#6\n",
    "print(\"\\nPattern: 6\")\n",
    "str1=[1,2,3]\n",
    "str2=[1,2,3]\n",
    "print([(y,x) for x in str1 for y in str2])"
   ]
  },
  {
   "cell_type": "markdown",
   "metadata": {},
   "source": [
    "### 1.4 Implement a function longestWord() that takes a list of words and returns the longest one. "
   ]
  },
  {
   "cell_type": "markdown",
   "metadata": {},
   "source": [
    "#### Solution(My approach)\n",
    "1. This function will return a longest word\n",
    "2. It is not mentioned what will be the type of longest word returned by the function, so i am considering it as string\n",
    "3. If More than one words having same length then it should return both.\n",
    "4. Using map function to find out length of each element in input sequence\n",
    "5. Using join method to convert my returned o/p in string\n",
    "\n",
    "#### Unit Testing(Enhancement)\n",
    "##### 1. Input list can have duplicate values so i have used sets data type to filter out duplicate \n"
   ]
  },
  {
   "cell_type": "code",
   "execution_count": 53,
   "metadata": {},
   "outputs": [],
   "source": [
    "def longest_world(seq):\n",
    "    long_world=set()\n",
    "    length_list=list(map(lambda a:len(a), seq))\n",
    "    max_length=max(length_list)\n",
    "    #print(max_length)\n",
    "    for x in seq:\n",
    "        if max_length==len(x):\n",
    "            long_world.add(x)\n",
    "    return (\", \".join(long_world))\n",
    "\n"
   ]
  },
  {
   "cell_type": "markdown",
   "metadata": {},
   "source": [
    "#### Testing"
   ]
  },
  {
   "cell_type": "code",
   "execution_count": 54,
   "metadata": {},
   "outputs": [
    {
     "name": "stdout",
     "output_type": "stream",
     "text": [
      "Testing of Function while only one longest world is present\n",
      "Chaudhary\n",
      "\n",
      "Testing of Function while same length for more than one and duplicates are presents\n",
      "Anjali, Ashish, Manish\n"
     ]
    }
   ],
   "source": [
    "print(\"Testing of Function while only one longest world is present\")\n",
    "world_list=[\"Ashish\", \"Kumar\", \"Anjali\", \"Manish\",\"Ashish\",\"Chaudhary\"]\n",
    "print(longest_world(world_list))\n",
    "\n",
    "print(\"\\nTesting of Function while same length for more than one and duplicates are presents\")\n",
    "world_list=[\"Ashish\", \"Kumar\", \"Anjali\", \"Manish\",\"Ashish\",]\n",
    "print(longest_world(world_list))"
   ]
  },
  {
   "cell_type": "markdown",
   "metadata": {},
   "source": [
    "# Task 2"
   ]
  },
  {
   "cell_type": "markdown",
   "metadata": {},
   "source": [
    "### 2.1 Write a Python Program(with class concepts) to find the area of the triangle using the below formula. \n",
    " \n",
    "area = (s*(s-a)*(s-b)*(s-c)) ** 0.5 \n",
    " \n",
    "Function to take the length of the sides of triangle from user should be defined in the parent class and function to calculate the area should be defined in subclass"
   ]
  },
  {
   "cell_type": "code",
   "execution_count": 34,
   "metadata": {},
   "outputs": [
    {
     "name": "stdout",
     "output_type": "stream",
     "text": [
      "Enter length of first side: er\n",
      "\n",
      "Please enter number value\n",
      "There is some proble during calculation\n",
      "Pleasse enter appropiate value\n",
      "Please Enter 'y/Y' for continue or press any other keyy\n",
      "Enter length of first side: 4\n",
      "Enter length of second side: 5\n",
      "Enter length of Third side: 6\n",
      "area of the triangle: 9\n",
      "Area calculated successfully\n",
      "Enter 'y/Y' for continue or press any other keyg\n"
     ]
    }
   ],
   "source": [
    "class main_triangle:\n",
    "    def __init__(self):\n",
    "        try:\n",
    "            self.a=float(input(\"Enter length of first side: \"))\n",
    "            self.b=float(input(\"Enter length of second side: \"))\n",
    "            self.c=float(input(\"Enter length of Third side: \"))\n",
    "        except:\n",
    "            print(\"\\nPlease enter number value\")\n",
    "\n",
    "class area_cal (main_triangle):\n",
    "    def cal_func(self):\n",
    "        s=(self.a+self.b+self.c)*.5\n",
    "        area=(s*(s-self.a)*(s-self.b)*(s-self.c))**.5\n",
    "        print(\"area of the triangle: %d\"%area)\n",
    "\n",
    "        \n",
    "while True:\n",
    "    try:\n",
    "        exe_again=''\n",
    "        area_calculation =area_cal()\n",
    "        area_calculation.cal_func()\n",
    "        exe_again=input(\"Area calculated successfully\\nEnter 'y/Y' for continue or press any other key\")\n",
    "    except:\n",
    "        print(\"There is some proble during calculation\\nPleasse enter appropiate value\")\n",
    "        exe_again=input(\"Please Enter 'y/Y' for continue or press any other key\")\n",
    "    if (exe_again.upper()!='Y'):\n",
    "        break"
   ]
  },
  {
   "cell_type": "markdown",
   "metadata": {},
   "source": [
    "### 2.2  Write a function filter_long_words() that takes a list of words and an integer n and returns the list of words that are longer than n. "
   ]
  },
  {
   "cell_type": "markdown",
   "metadata": {},
   "source": [
    "#### Solution(My approach)\n",
    "1. This function will check if input sequence is list and will perform operation if list is available."
   ]
  },
  {
   "cell_type": "code",
   "execution_count": 36,
   "metadata": {},
   "outputs": [
    {
     "name": "stdout",
     "output_type": "stream",
     "text": [
      "['Assjhis', 'gAHHASH', 'vdjjdk']\n"
     ]
    }
   ],
   "source": [
    "def filter_long_words(list_seqence,len_var):\n",
    "    if isinstance(list_seqence,list):\n",
    "        str_filtered_words=[]\n",
    "        for x in list_seqence:\n",
    "            if len(x)>len_var:\n",
    "                str_filtered_words.append(x)\n",
    "        return str_filtered_words\n",
    "    else:\n",
    "        print(\"Please provide list\")\n",
    "\n",
    "seq=[\"Assjhis\",\"Kumar\",\"hsdh\",\"gAHHASH\",\"vdjjdk\"]\n",
    "print(filter_long_words(seq,5))"
   ]
  },
  {
   "cell_type": "markdown",
   "metadata": {},
   "source": [
    "### 2.3 Write a Python program using function concept that maps  list of words into a list of integers representing the lengths of the corresponding words​. \n",
    "\n",
    "Hint:\n",
    "1. If a list [ ab,cde,erty] is passed on to the python function output should come as [2,3,4] \n",
    "2. Here 2,3 and 4 are the lengths of the words in the list. "
   ]
  },
  {
   "cell_type": "code",
   "execution_count": 42,
   "metadata": {},
   "outputs": [
    {
     "name": "stdout",
     "output_type": "stream",
     "text": [
      "Using map and lamda funation\n",
      "[5, 6, 3, 5]\n",
      "\n",
      "By creating mymap\n",
      "[5, 6, 3, 5]\n",
      "\n",
      "By calling mymap in another function\n",
      "[5, 6, 3, 5]\n"
     ]
    }
   ],
   "source": [
    "print(\"Using map and lamda funation\")\n",
    "seq=[\"dfdsv\",\"asdfsd\",\"rfr\",\"Kumar\"]\n",
    "print(list(map(lambda a:len(a),seq)))\n",
    "\n",
    "print(\"\\nBy creating mymap\")\n",
    "#a\n",
    "def mymap(func,seq):\n",
    "    my_map_list=[]\n",
    "    for x in seq:\n",
    "        my_map_list.append(func(x))\n",
    "    return my_map_list\n",
    "\n",
    "def my_len(input_value):\n",
    "    return(len(input_value))\n",
    "print(mymap(my_len,seq))\n",
    "\n",
    "print(\"\\nBy calling mymap in another function\")\n",
    "#b\n",
    "def mymap_list(seq):\n",
    "    l1=list(map(lambda a:len(a),seq))\n",
    "    return l1\n",
    "print(mymap_list(seq))"
   ]
  },
  {
   "cell_type": "markdown",
   "metadata": {},
   "source": [
    "### 2.4 Write a Python function which takes a character (i.e. a string of length 1) and returns True if it is a vowel, False otherwise"
   ]
  },
  {
   "cell_type": "code",
   "execution_count": 55,
   "metadata": {},
   "outputs": [
    {
     "name": "stdout",
     "output_type": "stream",
     "text": [
      "True\n"
     ]
    }
   ],
   "source": [
    "def func_vowel(char):\n",
    "    if isinstance(char,str) and len(char)==1:\n",
    "        vowels=['a','e','i','o','u']\n",
    "        if char in vowels:\n",
    "            return True\n",
    "        else:\n",
    "            return False\n",
    "    else:\n",
    "        return \"Please enter only one character(string of length 1,ex:'a' or 'm')\"\n",
    "print(func_vowel(\"a\"))"
   ]
  }
 ],
 "metadata": {
  "kernelspec": {
   "display_name": "Python 3",
   "language": "python",
   "name": "python3"
  },
  "language_info": {
   "codemirror_mode": {
    "name": "ipython",
    "version": 3
   },
   "file_extension": ".py",
   "mimetype": "text/x-python",
   "name": "python",
   "nbconvert_exporter": "python",
   "pygments_lexer": "ipython3",
   "version": "3.7.3"
  }
 },
 "nbformat": 4,
 "nbformat_minor": 2
}
